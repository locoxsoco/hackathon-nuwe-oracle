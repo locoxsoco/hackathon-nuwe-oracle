{
 "cells": [
  {
   "cell_type": "code",
   "execution_count": 13,
   "id": "153d0f94",
   "metadata": {},
   "outputs": [],
   "source": [
    "import os\n",
    "import pandas as pd\n",
    "import shutil"
   ]
  },
  {
   "cell_type": "code",
   "execution_count": 6,
   "id": "c20ecf41",
   "metadata": {},
   "outputs": [
    {
     "data": {
      "text/html": [
       "<div>\n",
       "<style scoped>\n",
       "    .dataframe tbody tr th:only-of-type {\n",
       "        vertical-align: middle;\n",
       "    }\n",
       "\n",
       "    .dataframe tbody tr th {\n",
       "        vertical-align: top;\n",
       "    }\n",
       "\n",
       "    .dataframe thead th {\n",
       "        text-align: right;\n",
       "    }\n",
       "</style>\n",
       "<table border=\"1\" class=\"dataframe\">\n",
       "  <thead>\n",
       "    <tr style=\"text-align: right;\">\n",
       "      <th></th>\n",
       "      <th>idx_train</th>\n",
       "      <th>path_img</th>\n",
       "      <th>label</th>\n",
       "    </tr>\n",
       "  </thead>\n",
       "  <tbody>\n",
       "    <tr>\n",
       "      <th>0</th>\n",
       "      <td>0</td>\n",
       "      <td>bc7696f4-1460-4d0b-a63d-f84b3be4da0f.jpeg</td>\n",
       "      <td>0</td>\n",
       "    </tr>\n",
       "    <tr>\n",
       "      <th>1</th>\n",
       "      <td>1</td>\n",
       "      <td>f8d50663-60d8-4da5-a8b8-79f954aec503.jpeg</td>\n",
       "      <td>2</td>\n",
       "    </tr>\n",
       "    <tr>\n",
       "      <th>2</th>\n",
       "      <td>2</td>\n",
       "      <td>51df0f29-758b-4741-ab74-a0ff8e21c044.jpeg</td>\n",
       "      <td>4</td>\n",
       "    </tr>\n",
       "    <tr>\n",
       "      <th>3</th>\n",
       "      <td>3</td>\n",
       "      <td>f61b81d3-3b79-4162-b4d6-4f1b39518c4c.jpeg</td>\n",
       "      <td>0</td>\n",
       "    </tr>\n",
       "    <tr>\n",
       "      <th>4</th>\n",
       "      <td>4</td>\n",
       "      <td>b21e0668-bd09-4794-9e90-da8ecffc4c1c.jpeg</td>\n",
       "      <td>0</td>\n",
       "    </tr>\n",
       "  </tbody>\n",
       "</table>\n",
       "</div>"
      ],
      "text/plain": [
       "   idx_train                                   path_img  label\n",
       "0          0  bc7696f4-1460-4d0b-a63d-f84b3be4da0f.jpeg      0\n",
       "1          1  f8d50663-60d8-4da5-a8b8-79f954aec503.jpeg      2\n",
       "2          2  51df0f29-758b-4741-ab74-a0ff8e21c044.jpeg      4\n",
       "3          3  f61b81d3-3b79-4162-b4d6-4f1b39518c4c.jpeg      0\n",
       "4          4  b21e0668-bd09-4794-9e90-da8ecffc4c1c.jpeg      0"
      ]
     },
     "execution_count": 6,
     "metadata": {},
     "output_type": "execute_result"
    }
   ],
   "source": [
    "df_train = pd.read_csv('train.csv')\n",
    "df_train.head()"
   ]
  },
  {
   "cell_type": "code",
   "execution_count": 4,
   "id": "34229ac8",
   "metadata": {},
   "outputs": [
    {
     "data": {
      "text/html": [
       "<div>\n",
       "<style scoped>\n",
       "    .dataframe tbody tr th:only-of-type {\n",
       "        vertical-align: middle;\n",
       "    }\n",
       "\n",
       "    .dataframe tbody tr th {\n",
       "        vertical-align: top;\n",
       "    }\n",
       "\n",
       "    .dataframe thead th {\n",
       "        text-align: right;\n",
       "    }\n",
       "</style>\n",
       "<table border=\"1\" class=\"dataframe\">\n",
       "  <thead>\n",
       "    <tr style=\"text-align: right;\">\n",
       "      <th></th>\n",
       "      <th>idx_test</th>\n",
       "      <th>path_img</th>\n",
       "    </tr>\n",
       "  </thead>\n",
       "  <tbody>\n",
       "    <tr>\n",
       "      <th>0</th>\n",
       "      <td>0</td>\n",
       "      <td>all_imgs/ec4c75ba-e064-4ed0-a7b1-3ed899424110....</td>\n",
       "    </tr>\n",
       "    <tr>\n",
       "      <th>1</th>\n",
       "      <td>1</td>\n",
       "      <td>all_imgs/114fb94d-3223-4d95-b6d1-f6a6ac206ea2....</td>\n",
       "    </tr>\n",
       "    <tr>\n",
       "      <th>2</th>\n",
       "      <td>2</td>\n",
       "      <td>all_imgs/a80e7e27-a25a-40aa-a65c-a29bfa172b3d....</td>\n",
       "    </tr>\n",
       "    <tr>\n",
       "      <th>3</th>\n",
       "      <td>3</td>\n",
       "      <td>all_imgs/7848d24e-207a-4236-9cd7-df78122d8787....</td>\n",
       "    </tr>\n",
       "    <tr>\n",
       "      <th>4</th>\n",
       "      <td>4</td>\n",
       "      <td>all_imgs/57f726bc-d141-42fb-88fa-60d554499277....</td>\n",
       "    </tr>\n",
       "  </tbody>\n",
       "</table>\n",
       "</div>"
      ],
      "text/plain": [
       "   idx_test                                           path_img\n",
       "0         0  all_imgs/ec4c75ba-e064-4ed0-a7b1-3ed899424110....\n",
       "1         1  all_imgs/114fb94d-3223-4d95-b6d1-f6a6ac206ea2....\n",
       "2         2  all_imgs/a80e7e27-a25a-40aa-a65c-a29bfa172b3d....\n",
       "3         3  all_imgs/7848d24e-207a-4236-9cd7-df78122d8787....\n",
       "4         4  all_imgs/57f726bc-d141-42fb-88fa-60d554499277...."
      ]
     },
     "execution_count": 4,
     "metadata": {},
     "output_type": "execute_result"
    }
   ],
   "source": [
    "df_test = pd.read_csv('test.csv')\n",
    "df_test.head()"
   ]
  },
  {
   "cell_type": "code",
   "execution_count": 5,
   "id": "5760a4b8",
   "metadata": {},
   "outputs": [],
   "source": [
    "# for i in range(8):\n",
    "#    os.mkdir(f'./train/{i}')"
   ]
  },
  {
   "cell_type": "code",
   "execution_count": 18,
   "id": "3f8e3bb2",
   "metadata": {},
   "outputs": [],
   "source": [
    "cur_dir = os.path.join(\"C:\\\\\", \"Hackathons\", \"Oracle\", \"Reto1\", \"hackathon-nuwe-oracle\")\n",
    "for index, row in df_train.iterrows():\n",
    "    shutil.copyfile(os.path.join(cur_dir,\"all_imgs\",row[\"path_img\"]), os.path.join(cur_dir,\"train\",str(row[\"label\"]),row[\"path_img\"]))"
   ]
  },
  {
   "cell_type": "code",
   "execution_count": null,
   "id": "8c62ab1a",
   "metadata": {},
   "outputs": [],
   "source": []
  }
 ],
 "metadata": {
  "kernelspec": {
   "display_name": "Python 3 (ipykernel)",
   "language": "python",
   "name": "python3"
  },
  "language_info": {
   "codemirror_mode": {
    "name": "ipython",
    "version": 3
   },
   "file_extension": ".py",
   "mimetype": "text/x-python",
   "name": "python",
   "nbconvert_exporter": "python",
   "pygments_lexer": "ipython3",
   "version": "3.9.13"
  }
 },
 "nbformat": 4,
 "nbformat_minor": 5
}
